{
 "cells": [
  {
   "cell_type": "code",
   "execution_count": null,
   "metadata": {},
   "outputs": [],
   "source": [
    "import Planning as Base\n",
    "import random as rand"
   ]
  },
  {
   "cell_type": "code",
   "execution_count": 2,
   "metadata": {},
   "outputs": [],
   "source": [
    "PNG = []\n",
    "\n",
    "for n in range(0,10): #10 players\n",
    "    PNG.append([\"Player_{}\".format(n+1), round(rand.uniform(1,100),3),round(rand.uniform(1,100),3),round(rand.uniform(1,100),3)])\n",
    "\n",
    "Output = Base.Planning(PNG,22) # 22 days"
   ]
  },
  {
   "cell_type": "code",
   "execution_count": 3,
   "metadata": {},
   "outputs": [
    {
     "name": "stdout",
     "output_type": "stream",
     "text": [
      "['Player_9', 'Player_10', 8, 9, 11.25683022207102, 0]\n",
      "['Player_1', 'Player_10', 0, 9, 13.055000811348581, 1]\n",
      "['Player_3', 'Player_7', 2, 6, 13.471514168559688, 2]\n",
      "['Player_1', 'Player_4', 0, 3, 13.663997990780501, 3]\n",
      "['Player_2', 'Player_9', 1, 8, 14.430816721054441, 4]\n",
      "['Player_3', 'Player_4', 2, 3, 14.05122856296531, 5]\n",
      "['Player_9', 'Player_10', 8, 9, 14.449435092052346, 6]\n",
      "['Player_7', 'Player_10', 6, 9, 14.641899714222161, 7]\n",
      "['Player_3', 'Player_7', 2, 6, 14.314608649831845, 8]\n",
      "['Player_4', 'Player_9', 3, 8, 14.617246935232476, 9]\n",
      "['Player_1', 'Player_2', 0, 1, 15.155697447099815, 10]\n",
      "['Player_4', 'Player_8', 3, 7, 14.851212953497843, 11]\n",
      "['Player_9', 'Player_10', 8, 9, 15.106819361377632, 12]\n",
      "['Player_9', 'Player_10', 8, 9, 15.62070636546763, 13]\n",
      "['Player_3', 'Player_7', 2, 6, 15.217828664602294, 14]\n",
      "['Player_1', 'Player_9', 0, 8, 15.44137755348968, 15]\n",
      "['Player_1', 'Player_10', 0, 9, 15.678206943666847, 16]\n",
      "['Player_3', 'Player_9', 2, 8, 15.461241480955845, 17]\n",
      "['Player_9', 'Player_10', 8, 9, 15.611924830445364, 18]\n",
      "['Player_2', 'Player_7', 1, 6, 16.06316860570337, 19]\n",
      "['Player_3', 'Player_7', 2, 6, 15.814635429044111, 20]\n",
      "['Player_9', 'Player_10', 8, 9, 15.974094388999426, 21]\n",
      "['Player_9', 'Player_10', 8, 9, 16.315765200366535, 22]\n",
      "['Player_3', 'Player_4', 2, 3, 16.23558513517449, 23]\n",
      "['Player_1', 'Player_4', 0, 3, 16.60499931237862, 24]\n",
      "['Player_1', 'Player_2', 0, 1, 17.000423048470267, 25]\n",
      "['Player_3', 'Player_4', 2, 3, 16.57141132693416, 26]\n",
      "['Player_1', 'Player_4', 0, 3, 16.736031573311767, 27]\n",
      "['Player_1', 'Player_9', 0, 8, 17.29745643881, 28]\n",
      "['Player_7', 'Player_10', 6, 9, 16.863165398167833, 29]\n",
      "['Player_4', 'Player_9', 3, 8, 17.10629805554723, 30]\n",
      "['Player_4', 'Player_10', 3, 9, 17.56635648341362, 31]\n",
      "['Player_3', 'Player_7', 2, 6, 17.192110271590057, 32]\n",
      "['Player_6', 'Player_10', 5, 9, 17.318171288648248, 33]\n",
      "['Player_2', 'Player_9', 1, 8, 18.074630641627767, 34]\n",
      "['Player_4', 'Player_8', 3, 7, 17.567129792364653, 35]\n",
      "['Player_4', 'Player_9', 3, 8, 17.820281149463945, 36]\n",
      "['Player_1', 'Player_2', 0, 1, 18.382681370326377, 37]\n",
      "['Player_4', 'Player_8', 3, 7, 17.97325214422421, 38]\n",
      "['Player_4', 'Player_10', 3, 9, 18.08959614570228, 39]\n",
      "['Player_1', 'Player_10', 0, 9, 18.596681081027896, 40]\n",
      "['Player_4', 'Player_7', 3, 6, 17.950288619366994, 41]\n",
      "['Player_5', 'Player_9', 4, 8, 18.462855338760747, 42]\n",
      "['Player_2', 'Player_9', 1, 8, 19.012155059765732, 43]\n",
      "['Player_3', 'Player_9', 2, 8, 18.256464642979324, 44]\n",
      "['Player_1', 'Player_9', 0, 8, 18.85371794082986, 45]\n",
      "['Player_7', 'Player_9', 6, 8, 19.092268837724262, 46]\n",
      "['Player_3', 'Player_9', 2, 8, 18.92595001180507, 47]\n",
      "['Player_1', 'Player_10', 0, 9, 18.870417240835202, 48]\n",
      "['Player_5', 'Player_6', 4, 5, 19.42765206088543, 49]\n",
      "['Player_3', 'Player_8', 2, 7, 19.026019903239984, 50]\n",
      "['Player_1', 'Player_8', 0, 7, 19.35850498805415, 51]\n",
      "['Player_4', 'Player_7', 3, 6, 19.857554306811203, 52]\n",
      "['Player_8', 'Player_10', 7, 9, 19.637606825366557, 53]\n",
      "['Player_1', 'Player_4', 0, 3, 19.454909016706182, 54]\n",
      "['Player_1', 'Player_10', 0, 9, 20.456975418953732, 55]\n",
      "['Player_3', 'Player_10', 2, 9, 19.813023376431836, 56]\n",
      "['Player_9', 'Player_10', 8, 9, 19.65420215592929, 57]\n",
      "['Player_1', 'Player_10', 0, 9, 20.707035732325565, 58]\n",
      "['Player_3', 'Player_8', 2, 7, 20.068068344090268, 59]\n",
      "['Player_1', 'Player_4', 0, 3, 20.066727293515658, 60]\n",
      "['Player_4', 'Player_10', 3, 9, 20.688632152792508, 61]\n",
      "['Player_9', 'Player_10', 8, 9, 20.574691027849916, 62]\n",
      "['Player_5', 'Player_6', 4, 5, 20.616125687236483, 63]\n",
      "['Player_7', 'Player_10', 6, 9, 21.167092031023685, 64]\n",
      "['Player_9', 'Player_10', 8, 9, 20.698685209643926, 65]\n"
     ]
    }
   ],
   "source": [
    "for i in Output:\n",
    "    print(i)"
   ]
  },
  {
   "cell_type": "code",
   "execution_count": 4,
   "metadata": {},
   "outputs": [
    {
     "data": {
      "text/plain": [
       "[['Player_1', 68.046, 88.866, 17.744],\n",
       " ['Player_2', 18.776, 88.408, 29.087],\n",
       " ['Player_3', 23.655, 4.208, 88.963],\n",
       " ['Player_4', 70.317, 61.59, 66.198],\n",
       " ['Player_5', 45.127, 48.953, 35.193],\n",
       " ['Player_6', 46.688, 55.646, 13.839],\n",
       " ['Player_7', 23.547, 68.108, 66.581],\n",
       " ['Player_8', 43.526, 36.605, 55.154],\n",
       " ['Player_9', 99.521, 82.957, 50.035],\n",
       " ['Player_10', 82.73, 96.918, 49.242]]"
      ]
     },
     "execution_count": 4,
     "metadata": {},
     "output_type": "execute_result"
    }
   ],
   "source": [
    "PNG"
   ]
  }
 ],
 "metadata": {
  "kernelspec": {
   "display_name": "Python 3",
   "language": "python",
   "name": "python3"
  },
  "language_info": {
   "codemirror_mode": {
    "name": "ipython",
    "version": 3
   },
   "file_extension": ".py",
   "mimetype": "text/x-python",
   "name": "python",
   "nbconvert_exporter": "python",
   "pygments_lexer": "ipython3",
   "version": "3.11.8"
  }
 },
 "nbformat": 4,
 "nbformat_minor": 2
}
